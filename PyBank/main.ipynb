{
 "cells": [
  {
   "cell_type": "code",
   "execution_count": 236,
   "metadata": {},
   "outputs": [
    {
     "name": "stdout",
     "output_type": "stream",
     "text": [
      "Financial Analysis\n",
      "~~~~~~~~~~~~~~~~~~~~~~~~~~~~~~\n",
      "Total Months: 86\n",
      "Total: $22564198\n",
      "Average Change: $-8311\n",
      "Greatest Increase in Profits: Aug-16 ($1862002)\n",
      "Greatest Decrease in Profits: Feb-14 ($-1825558)\n",
      "~~~~~~~~~~~~~~~~~~~~~~~~~~~~~~~\n"
     ]
    }
   ],
   "source": [
    "import os\n",
    "import csv\n",
    "budget_data = os.path.join(\"budget_data.csv\")\n",
    "\n",
    "total_months = 0\n",
    "total = 0\n",
    "value = 0\n",
    "change = 0\n",
    "dates = []\n",
    "profits = []\n",
    "\n",
    "with open(budget_data, 'r') as csvfile:\n",
    "    csvreader = csv.reader(csvfile, delimiter = \",\")\n",
    "    csv_header = next(csvreader)\n",
    "\n",
    "    total += int(first_row[1])\n",
    "    value = int(first_row[1])\n",
    "    first_row = next(csvreader)\n",
    "    for row in csvreader:\n",
    "        change = int(row[1])-value\n",
    "        profits.append(change)\n",
    "        value = int(row[1])\n",
    "        \n",
    "        total_months= list(range(1,86))\n",
    "        total_months.append(row[0])\n",
    "        dates.append(row[0])\n",
    "\n",
    "        \n",
    "        total = total + int(row[1])\n",
    "    biggest_increase = max(profits)\n",
    "    greatest_decrease = min(profits)\n",
    "    greatest_date = dates[greatest_index]\n",
    "    average_change = sum(profits)/len(profits)\n",
    "    \n",
    "    \n",
    "    worst_index = profits.index(greatest_decrease)\n",
    "    worst_date = dates[worst_index]\n",
    "\n",
    "    \n",
    "    \n",
    "    \n",
    "\n",
    "\n",
    "print(\"Financial Analysis\")\n",
    "print(\"~~~~~~~~~~~~~~~~~~~~~~~~~~~~~~\")\n",
    "print(f\"Total Months: {len(total_months)}\")\n",
    "print(f\"Total: ${int(total)}\")\n",
    "print(f\"Average Change: ${int(round(average_change,2))}\")\n",
    "print(f\"Greatest Increase in Profits: {greatest_date} (${str(biggest_increase)})\")\n",
    "print(f\"Greatest Decrease in Profits: {worst_date} (${str(greatest_decrease)})\")\n",
    "print(\"~~~~~~~~~~~~~~~~~~~~~~~~~~~~~~~\")\n",
    "\n",
    "\n",
    "\n",
    "   \n",
    "\n",
    "\n",
    "    \n",
    "    \n",
    "\n",
    "\n",
    "\n",
    "\n",
    "\n",
    "\n",
    "\n",
    "\n"
   ]
  }
 ],
 "metadata": {
  "kernelspec": {
   "display_name": "Python 3",
   "language": "python",
   "name": "python3"
  },
  "language_info": {
   "codemirror_mode": {
    "name": "ipython",
    "version": 3
   },
   "file_extension": ".py",
   "mimetype": "text/x-python",
   "name": "python",
   "nbconvert_exporter": "python",
   "pygments_lexer": "ipython3",
   "version": "3.11.4"
  },
  "orig_nbformat": 4
 },
 "nbformat": 4,
 "nbformat_minor": 2
}
